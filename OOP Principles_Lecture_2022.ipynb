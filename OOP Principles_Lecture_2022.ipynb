{
 "cells": [
  {
   "cell_type": "markdown",
   "metadata": {},
   "source": [
    " <h1 align = center> Principles of Object Oriented Programming </h1>"
   ]
  },
  {
   "cell_type": "markdown",
   "metadata": {},
   "source": [
    "#### 4 principles\n",
    "- Encapsulation\n",
    "- Abstraction\n",
    "- Inheritance\n",
    "- Polymorphism\n"
   ]
  },
  {
   "cell_type": "markdown",
   "metadata": {},
   "source": [
    "## 1 ENCAPSULATION"
   ]
  },
  {
   "cell_type": "markdown",
   "metadata": {},
   "source": [
    "In encapsulation, the variables of a class can be made hidden from other classes, and can be accessed only through the methods of their current class. Therefore, it is also known as data hiding.\n",
    "<br><br>\n",
    "Encapsulation can be described as a protective barrier that prevents the code and data being randomly accessed by other code defined outside the class. Access to the data and code is tightly controlled by a class."
   ]
  },
  {
   "cell_type": "code",
   "execution_count": 39,
   "metadata": {},
   "outputs": [],
   "source": [
    "from datetime import timedelta, date\n",
    "from IPython.display import Image\n",
    "import requests\n",
    "from time import sleep\n",
    "\n",
    "generic_image = 'codeflix.png'\n"
   ]
  },
  {
   "cell_type": "code",
   "execution_count": 40,
   "metadata": {},
   "outputs": [],
   "source": [
    "class Video:\n",
    "    \n",
    "    def __init__(self):\n",
    "        self.name = None\n",
    "        self.length = timedelta() \n",
    "        self.link = generic_image\n",
    "        \n",
    "    def play(self):\n",
    "        print(f\"now playing {self.name}\")\n",
    "        display(Image(self.link))\n",
    "    def pause(self):\n",
    "        print(\"video paused\")\n",
    "        \n",
    "    def __repr__(self):\n",
    "        return f\"{self.name} is {self.length.seconds} seconds long. \"\n",
    "    \n",
    "        \n",
    "    "
   ]
  },
  {
   "cell_type": "markdown",
   "metadata": {},
   "source": [
    "## 2 ABSTRACTION"
   ]
  },
  {
   "cell_type": "markdown",
   "metadata": {},
   "source": [
    "Abstraction is a process of hiding the implementation details from the user, only the functionality will be provided to the user.\n",
    "<br><br>\n"
   ]
  },
  {
   "cell_type": "code",
   "execution_count": 41,
   "metadata": {},
   "outputs": [],
   "source": [
    "class Episode(Video):\n",
    "    def __init__(self,data):\n",
    "        Video.__init__(self)\n",
    "        self.number = data['number']\n",
    "        self.season = data['season']\n",
    "        self.date_aired = data['airdate']\n",
    "        self.summary = data['summary']\n",
    "        self.rating = data['rating']['average']\n",
    "        self.name = data['name']\n",
    "        self.length = timedelta(minutes = data['runtime'])\n",
    "        if data['image']:\n",
    "            self.link = data['image']['medium']\n",
    "        else:\n",
    "            self.link = generic_image"
   ]
  },
  {
   "cell_type": "markdown",
   "metadata": {},
   "source": [
    "## 3 INHERITENCE"
   ]
  },
  {
   "cell_type": "markdown",
   "metadata": {},
   "source": [
    "Inheritance can be defined as the process where one class acquires the properties (methods and fields) of another.\n",
    "<br>\n",
    "<i>(see above)</i>"
   ]
  },
  {
   "cell_type": "code",
   "execution_count": 42,
   "metadata": {},
   "outputs": [],
   "source": [
    "\n",
    "class Series:\n",
    "    def __init__(self):\n",
    "        self.id = None\n",
    "        self.network = None\n",
    "        self.seasons = None\n",
    "        self.summary = None\n",
    "        self.genres = []\n",
    "        self.episodes = []\n",
    "        \n",
    "    def get_info(self):\n",
    "        data = None\n",
    "        while not data:\n",
    "            search = input('What is the name of this series?')\n",
    "            r = requests.get(f'https://api.tvmaze.com/singlesearch/shows?q={search}')\n",
    "            if r.status_code == 200:\n",
    "                data = r.json()\n",
    "            else:\n",
    "                print(f\"Series error: status code {r.status_code}\")\n",
    "                \n",
    "        self.id = data['id']\n",
    "        self.name = data['name']\n",
    "        self.summary = data['summary']\n",
    "        self.genres = [genre for genre in data['genres']]\n",
    "        self.network = data['network'] or data['webChannel']['name']\n",
    "        \n",
    "        #API call for Episodes\n",
    "        r = requests.get(f'https://api.tvmaze.com/shows/{self.id}/episodes')\n",
    "        if r.status_code == 200:\n",
    "            episodes = r.json() \n",
    "        else:\n",
    "            print(f\"episode error: status code {r.status_code}\")\n",
    "            return\n",
    "        self.seasons = episodes[-1]['season']\n",
    "        self.episodes = [Episode(ep) for ep in episodes]\n",
    "        \n",
    "    def play(self):\n",
    "        for i in range(len(self.episodes)):\n",
    "            if i > 0 and i % 3 == 0:\n",
    "                watching = input('Are you still watching? y/N')\n",
    "                if watching.lower() not in ('yes','y'):\n",
    "                    break\n",
    "            self.episodes[i].play()\n",
    "            sleep(self.episodes[i].length.seconds/1000)\n",
    "            \n",
    "    def __len__(self):\n",
    "        return len(self.episodes)\n",
    "    def __repr__(self):\n",
    "        return self.name"
   ]
  },
  {
   "cell_type": "code",
   "execution_count": 8,
   "metadata": {},
   "outputs": [
    {
     "name": "stdout",
     "output_type": "stream",
     "text": [
      "What is the name of this series?outlander\n"
     ]
    }
   ],
   "source": [
    "first_show = Series()\n",
    "first_show.get_info()"
   ]
  },
  {
   "cell_type": "code",
   "execution_count": 9,
   "metadata": {},
   "outputs": [
    {
     "data": {
      "text/plain": [
       "75"
      ]
     },
     "execution_count": 9,
     "metadata": {},
     "output_type": "execute_result"
    }
   ],
   "source": [
    "len(first_show)"
   ]
  },
  {
   "cell_type": "markdown",
   "metadata": {},
   "source": [
    "## 4 POLYMORPHISM"
   ]
  },
  {
   "cell_type": "markdown",
   "metadata": {},
   "source": [
    "In object-oriented programming, polymorphism (from the Greek meaning “having multiple forms”) is the characteristic of being able to assign a different meaning or usage to something in different contexts — specifically, to allow an entity such as a function, or an object to have more than one form.\n",
    "<br><br>\n"
   ]
  },
  {
   "cell_type": "code",
   "execution_count": 37,
   "metadata": {},
   "outputs": [],
   "source": [
    "# first_show.play()"
   ]
  },
  {
   "cell_type": "code",
   "execution_count": 43,
   "metadata": {},
   "outputs": [
    {
     "name": "stdout",
     "output_type": "stream",
     "text": [
      "What is the name of this series?simpsons\n"
     ]
    }
   ],
   "source": [
    "show_2 = Series()\n",
    "show_2.get_info()"
   ]
  },
  {
   "cell_type": "code",
   "execution_count": 38,
   "metadata": {},
   "outputs": [],
   "source": [
    "# show_2.watch()"
   ]
  },
  {
   "cell_type": "code",
   "execution_count": 61,
   "metadata": {},
   "outputs": [],
   "source": [
    "class Theater:\n",
    "    def __init__(self):\n",
    "        self.users = []\n",
    "        self.watchlist = []\n",
    "        self.current_user = None\n",
    "        \n",
    "    def add_to_watchlist(self):\n",
    "        show = Series()\n",
    "        show.get_info()\n",
    "        self.watchlist.append(show)\n",
    "        print(f\"{show.name} has been added to your watchlist\")\n",
    "        \n",
    "    def add_user(self, name = ''):\n",
    "        if not name:\n",
    "            name = input('What is the name of your new user?')\n",
    "        self.users.append(name)\n",
    "        \n",
    "    def choose_user(self):\n",
    "        while True:\n",
    "                print('Users')\n",
    "                for user in self.users:\n",
    "                    print(user)\n",
    "                current = input('Choose a user')\n",
    "                if current in self.users:\n",
    "                    self.current_user = current\n",
    "                    print(f\"{self.current_user} is now watching.\")\n",
    "                    break\n",
    "                else:\n",
    "                    print(\"current is not a user\")\n",
    "                    \n",
    "    def choose_from_watchlist(self):\n",
    "        for series in self.watchlist:\n",
    "            print(f\"\\n\\n{series} | Episodes: {len(series)}\")\n",
    "            print(\"\\nSummary: \\n\",str(series.summary))\\\n",
    "            \n",
    "        watch = input('What would you like to watch?')\n",
    "        \n",
    "        for series in self.watchlist:\n",
    "            if series.name.lower() == watch.lower():\n",
    "                series.play()\n",
    "        response = input(f\"{watch} is not in your watch list. Would you like to add it? y/N\")\n",
    "        if response in ('y','yes'):\n",
    "            self.add_to_watchlist()\n",
    "            self.watchlist[-1].play()\n",
    "        \n",
    "            \n",
    "                \n",
    "    def run(self):\n",
    "        \"\"\"\n",
    "            Function allowing users choose series and play episodes.\n",
    "        \"\"\"\n",
    "        \n",
    "        if self.users:\n",
    "            self.choose_user()   \n",
    "        else:\n",
    "            name = input('Create a profile: ')\n",
    "            self.add_user(name)\n",
    "            \n",
    "            self.current_user = name\n",
    "        print(self.current_user)\n",
    "        print(\"\"\"\n",
    "            What would you like to do:\n",
    "            \n",
    "            Search - Search for shows\n",
    "            Watch  - pick something from your watchlist\n",
    "            Add    - add new user\n",
    "            Quit   - close the app\n",
    "            \n",
    "        \"\"\")\n",
    "    \n",
    "        while True:\n",
    "            response = input(\"What would you like to do? (search, watch, add, quit)\")\n",
    "            \n",
    "            if response.lower() == 'search':\n",
    "                self.add_to_watchlist()\n",
    "            elif response.lower() == 'watch':\n",
    "                self.choose_from_watchlist()\n",
    "            elif response.lower() == 'add':\n",
    "                self.add_user()\n",
    "                self.choose_user()\n",
    "            elif response.lower() == 'quit':\n",
    "                print('Thanks for watching')\n",
    "                break\n",
    "            else:\n",
    "                print(\"Incorrect input... try again\")"
   ]
  },
  {
   "cell_type": "code",
   "execution_count": null,
   "metadata": {},
   "outputs": [
    {
     "name": "stdout",
     "output_type": "stream",
     "text": [
      "Create a profile: panda\n",
      "panda\n",
      "\n",
      "            What would you like to do:\n",
      "            \n",
      "            Search - Search for shows\n",
      "            Watch  - pick something from your watchlist\n",
      "            Add    - add new user\n",
      "            Quit   - close the app\n",
      "            \n",
      "        \n",
      "What would you like to do? (search, watch, add, quit)search\n",
      "What is the name of this series?in the dark\n",
      "In the Dark has been added to your watchlist\n",
      "What would you like to do? (search, watch, add, quit)watch\n",
      "\n",
      "\n",
      "In the Dark | Episodes: 39\n",
      "\n",
      "Summary: \n",
      " <p>Murphy is a hard-living, hard-drinking, disaffected twenty-something with a penchant for cigarettes and casual sex. She's also blind. Murphy lives with her supportive best friend, Jess, and - more reluctantly - her trusty guide dog, Pretzel, whose presence she resents. Murphy's closest friend is a sweet teenager named Tyson, who she befriends after he saved her from a violent mugging. Her life comes crashing down when she stumbles upon what she's sure is the lifeless body of Tyson in the alley outside her apartment. But when the police arrive there is no body to be found - and with Murphy not exactly sober, the police aren't especially inclined to investigate. Murphy is determined to find the truth, no matter the risk… even if it means she has to sober up a little.</p>\n",
      "What would you like to watch?game of thrones\n",
      "game of thrones is not in your watch list. Would you like to add it? y/Ny\n",
      "What is the name of this series?game of thrones\n",
      "Game of Thrones has been added to your watchlist\n",
      "now playing Winter is Coming\n"
     ]
    },
    {
     "data": {
      "image/jpeg": "[encoded data removed]",
      "text/plain": [
       "<IPython.core.display.Image object>"
      ]
     },
     "metadata": {},
     "output_type": "display_data"
    },
    {
     "name": "stdout",
     "output_type": "stream",
     "text": [
      "now playing The Kingsroad\n"
     ]
    },
    {
     "data": {
      "image/jpeg": "[encoded data removed]",
      "text/plain": [
       "<IPython.core.display.Image object>"
      ]
     },
     "metadata": {},
     "output_type": "display_data"
    },
    {
     "name": "stdout",
     "output_type": "stream",
     "text": [
      "now playing Lord Snow\n"
     ]
    },
    {
     "data": {
      "image/jpeg": "[encoded data removed]",
      "text/plain": [
       "<IPython.core.display.Image object>"
      ]
     },
     "metadata": {},
     "output_type": "display_data"
    }
   ],
   "source": [
    "codeflix = Theater()\n",
    "codeflix.run()"
   ]
  },
  {
   "cell_type": "markdown",
   "metadata": {},
   "source": [
    "##  Exercise 1:\n",
    "Discuss what other classes we could make to improve our streaming service using these principles. <br> <br>\n",
    "Start making a few of them and see where it leads..."
   ]
  },
  {
   "cell_type": "code",
   "execution_count": null,
   "metadata": {},
   "outputs": [],
   "source": []
  }
 ],
 "metadata": {
  "kernelspec": {
   "display_name": "Python 3",
   "language": "python",
   "name": "python3"
  },
  "language_info": {
   "codemirror_mode": {
    "name": "ipython",
    "version": 3
   },
   "file_extension": ".py",
   "mimetype": "text/x-python",
   "name": "python",
   "nbconvert_exporter": "python",
   "pygments_lexer": "ipython3",
   "version": "3.8.5"
  }
 },
 "nbformat": 4,
 "nbformat_minor": 4
}
