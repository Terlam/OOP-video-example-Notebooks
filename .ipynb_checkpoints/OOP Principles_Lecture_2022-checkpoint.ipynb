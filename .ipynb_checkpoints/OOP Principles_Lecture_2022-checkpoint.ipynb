{
 "cells": [
  {
   "cell_type": "markdown",
   "metadata": {},
   "source": [
    " <h1 align = center> Principles of Object Oriented Programming </h1>"
   ]
  },
  {
   "cell_type": "markdown",
   "metadata": {},
   "source": [
    "- 4 principles\n",
    "- examples of principles\n",
    "- video class\n",
    "- show class\n",
    "- series clas\n",
    "- movie class\n",
    "\n",
    "parking garage project\n"
   ]
  },
  {
   "cell_type": "code",
   "execution_count": 17,
   "metadata": {},
   "outputs": [
    {
     "name": "stdout",
     "output_type": "stream",
     "text": [
      "2880000.0\n",
      "0\n"
     ]
    }
   ],
   "source": [
    "from datetime import timedelta, date\n",
    "x = timedelta(2000)\n",
    "y = x/ timedelta(minutes=1)\n",
    "print(y//1)\n",
    "print(x.seconds)\n",
    "date?"
   ]
  },
  {
   "cell_type": "code",
   "execution_count": 16,
   "metadata": {},
   "outputs": [],
   "source": [
    "class Video():\n",
    "    \n",
    "    def __init__(self):\n",
    "        self.title = ''\n",
    "        self.length = timedelta() \n",
    "        \n",
    "    def __repr__(self):\n",
    "        return f\"{self.title} is {self.length.seconds} seconds long. \"\n",
    "        \n",
    "    "
   ]
  },
  {
   "cell_type": "code",
   "execution_count": null,
   "metadata": {},
   "outputs": [],
   "source": [
    "class Episode(Video):\n",
    "    def __init__(self):\n",
    "        Video.__init__(self)\n",
    "        self.number = 0\n",
    "        self.network = ''\n",
    "        self.season = 0\n",
    "        self.date_aired = date()\n",
    "        self.summary = ''\n",
    "        self.rating = ''\n",
    "        "
   ]
  }
 ],
 "metadata": {
  "kernelspec": {
   "display_name": "Python 3",
   "language": "python",
   "name": "python3"
  },
  "language_info": {
   "codemirror_mode": {
    "name": "ipython",
    "version": 3
   },
   "file_extension": ".py",
   "mimetype": "text/x-python",
   "name": "python",
   "nbconvert_exporter": "python",
   "pygments_lexer": "ipython3",
   "version": "3.8.5"
  }
 },
 "nbformat": 4,
 "nbformat_minor": 4
}
